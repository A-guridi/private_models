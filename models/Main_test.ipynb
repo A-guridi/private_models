{
 "cells": [
  {
   "cell_type": "code",
   "execution_count": 1,
   "id": "hourly-judgment",
   "metadata": {},
   "outputs": [
    {
     "name": "stdout",
     "output_type": "stream",
     "text": [
      "Segmentation Models: using `tf.keras` framework.\n"
     ]
    }
   ],
   "source": [
    "from segmentation.trainer import trainer\n",
    "from utils import transform_gt, create_datasets, infer_num_classes"
   ]
  },
  {
   "cell_type": "code",
   "execution_count": 2,
   "id": "focal-edinburgh",
   "metadata": {},
   "outputs": [],
   "source": [
    "datadir=\"C:/Users/Arturo/PycharmProjects/CamVid\"\n",
    "train_df, val_df, test_df=create_datasets(datadir)"
   ]
  },
  {
   "cell_type": "code",
   "execution_count": 5,
   "id": "every-angle",
   "metadata": {},
   "outputs": [
    {
     "name": "stdout",
     "output_type": "stream",
     "text": [
      "                                               image  \\\n",
      "0  C:\\Users\\Arturo\\PycharmProjects\\CamVid\\train\\0...   \n",
      "1  C:\\Users\\Arturo\\PycharmProjects\\CamVid\\train\\0...   \n",
      "2  C:\\Users\\Arturo\\PycharmProjects\\CamVid\\train\\0...   \n",
      "3  C:\\Users\\Arturo\\PycharmProjects\\CamVid\\train\\0...   \n",
      "4  C:\\Users\\Arturo\\PycharmProjects\\CamVid\\train\\0...   \n",
      "\n",
      "                                               label  \n",
      "0  C:\\Users\\Arturo\\PycharmProjects\\CamVid\\train_l...  \n",
      "1  C:\\Users\\Arturo\\PycharmProjects\\CamVid\\train_l...  \n",
      "2  C:\\Users\\Arturo\\PycharmProjects\\CamVid\\train_l...  \n",
      "3  C:\\Users\\Arturo\\PycharmProjects\\CamVid\\train_l...  \n",
      "4  C:\\Users\\Arturo\\PycharmProjects\\CamVid\\train_l...  \n"
     ]
    }
   ],
   "source": []
  },
  {
   "cell_type": "code",
   "execution_count": null,
   "id": "immune-harris",
   "metadata": {},
   "outputs": [],
   "source": []
  }
 ],
 "metadata": {
  "kernelspec": {
   "display_name": "Python 3",
   "language": "python",
   "name": "python3"
  },
  "language_info": {
   "codemirror_mode": {
    "name": "ipython",
    "version": 3
   },
   "file_extension": ".py",
   "mimetype": "text/x-python",
   "name": "python",
   "nbconvert_exporter": "python",
   "pygments_lexer": "ipython3",
   "version": "3.7.9"
  }
 },
 "nbformat": 4,
 "nbformat_minor": 5
}
