{
 "cells": [
  {
   "cell_type": "code",
   "execution_count": 1,
   "id": "hourly-judgment",
   "metadata": {},
   "outputs": [
    {
     "name": "stdout",
     "output_type": "stream",
     "text": [
      "Segmentation Models: using `tf.keras` framework.\n"
     ]
    },
    {
     "ename": "ModuleNotFoundError",
     "evalue": "No module named 'private_models'",
     "output_type": "error",
     "traceback": [
      "\u001b[1;31m---------------------------------------------------------------------------\u001b[0m",
      "\u001b[1;31mModuleNotFoundError\u001b[0m                       Traceback (most recent call last)",
      "\u001b[1;32m<ipython-input-1-5dd5d002dc1a>\u001b[0m in \u001b[0;36m<module>\u001b[1;34m\u001b[0m\n\u001b[1;32m----> 1\u001b[1;33m \u001b[1;32mfrom\u001b[0m \u001b[0msegmentation\u001b[0m\u001b[1;33m.\u001b[0m\u001b[0mtrainer\u001b[0m \u001b[1;32mimport\u001b[0m \u001b[0mtrainer\u001b[0m\u001b[1;33m\u001b[0m\u001b[1;33m\u001b[0m\u001b[0m\n\u001b[0m\u001b[0;32m      2\u001b[0m \u001b[1;32mfrom\u001b[0m \u001b[0mutils\u001b[0m \u001b[1;32mimport\u001b[0m \u001b[0mtransform_gt\u001b[0m\u001b[1;33m,\u001b[0m \u001b[0mcreate_datasets\u001b[0m\u001b[1;33m,\u001b[0m \u001b[0minfer_num_classes\u001b[0m\u001b[1;33m\u001b[0m\u001b[1;33m\u001b[0m\u001b[0m\n",
      "\u001b[1;32m~\\PycharmProjects\\Segm\\private_models\\models\\segmentation\\trainer.py\u001b[0m in \u001b[0;36m<module>\u001b[1;34m\u001b[0m\n\u001b[0;32m     11\u001b[0m \u001b[1;32mimport\u001b[0m \u001b[0mos\u001b[0m\u001b[1;33m\u001b[0m\u001b[1;33m\u001b[0m\u001b[0m\n\u001b[0;32m     12\u001b[0m \u001b[1;32mfrom\u001b[0m \u001b[0mpathlib\u001b[0m \u001b[1;32mimport\u001b[0m \u001b[0mPath\u001b[0m\u001b[1;33m\u001b[0m\u001b[1;33m\u001b[0m\u001b[0m\n\u001b[1;32m---> 13\u001b[1;33m \u001b[1;32mfrom\u001b[0m \u001b[0mprivate_models\u001b[0m\u001b[1;33m.\u001b[0m\u001b[0mmodels\u001b[0m\u001b[1;33m.\u001b[0m\u001b[0mutils\u001b[0m\u001b[1;33m.\u001b[0m\u001b[0mgenerators\u001b[0m \u001b[1;32mimport\u001b[0m \u001b[0mSegmDataGenerator\u001b[0m\u001b[1;33m\u001b[0m\u001b[1;33m\u001b[0m\u001b[0m\n\u001b[0m\u001b[0;32m     14\u001b[0m \u001b[1;33m\u001b[0m\u001b[0m\n\u001b[0;32m     15\u001b[0m \u001b[1;33m\u001b[0m\u001b[0m\n",
      "\u001b[1;31mModuleNotFoundError\u001b[0m: No module named 'private_models'"
     ]
    }
   ],
   "source": [
    "from segmentation.trainer import trainer\n",
    "from utils import transform_gt, create_datasets, infer_num_classes"
   ]
  },
  {
   "cell_type": "code",
   "execution_count": null,
   "id": "focal-edinburgh",
   "metadata": {},
   "outputs": [],
   "source": [
    "datadir=\"C:/Users/Arturo/PycharmProjects/CamVid\"\n",
    "train_df, val_df, test_df=create_datasets(datadir)"
   ]
  },
  {
   "cell_type": "code",
   "execution_count": 5,
   "id": "every-angle",
   "metadata": {},
   "outputs": [
    {
     "name": "stdout",
     "output_type": "stream",
     "text": [
      "                                               image  \\\n",
      "0  C:\\Users\\Arturo\\PycharmProjects\\CamVid\\train\\0...   \n",
      "1  C:\\Users\\Arturo\\PycharmProjects\\CamVid\\train\\0...   \n",
      "2  C:\\Users\\Arturo\\PycharmProjects\\CamVid\\train\\0...   \n",
      "3  C:\\Users\\Arturo\\PycharmProjects\\CamVid\\train\\0...   \n",
      "4  C:\\Users\\Arturo\\PycharmProjects\\CamVid\\train\\0...   \n",
      "\n",
      "                                               label  \n",
      "0  C:\\Users\\Arturo\\PycharmProjects\\CamVid\\train_l...  \n",
      "1  C:\\Users\\Arturo\\PycharmProjects\\CamVid\\train_l...  \n",
      "2  C:\\Users\\Arturo\\PycharmProjects\\CamVid\\train_l...  \n",
      "3  C:\\Users\\Arturo\\PycharmProjects\\CamVid\\train_l...  \n",
      "4  C:\\Users\\Arturo\\PycharmProjects\\CamVid\\train_l...  \n"
     ]
    }
   ],
   "source": [
    "model=trainer()"
   ]
  },
  {
   "cell_type": "code",
   "execution_count": null,
   "id": "immune-harris",
   "metadata": {},
   "outputs": [],
   "source": []
  }
 ],
 "metadata": {
  "kernelspec": {
   "display_name": "Python 3",
   "language": "python",
   "name": "python3"
  },
  "language_info": {
   "codemirror_mode": {
    "name": "ipython",
    "version": 3
   },
   "file_extension": ".py",
   "mimetype": "text/x-python",
   "name": "python",
   "nbconvert_exporter": "python",
   "pygments_lexer": "ipython3",
   "version": "3.7.9"
  }
 },
 "nbformat": 4,
 "nbformat_minor": 5
}
