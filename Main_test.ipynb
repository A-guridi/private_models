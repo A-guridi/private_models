{
 "cells": [
  {
   "cell_type": "code",
   "execution_count": 1,
   "id": "hourly-judgment",
   "metadata": {},
   "outputs": [
    {
     "name": "stdout",
     "output_type": "stream",
     "text": [
      "Segmentation Models: using `tf.keras` framework.\n"
     ]
    }
   ],
   "source": [
    "from models.segmentation.trainer import trainer\n",
    "from models.utils import create_datasets, infer_num_classes"
   ]
  },
  {
   "cell_type": "code",
   "execution_count": 2,
   "id": "focal-edinburgh",
   "metadata": {},
   "outputs": [],
   "source": [
    "datadir=\"C:/Users/Arturo/PycharmProjects/CamVid\"\n",
    "train_df, val_df, test_df=create_datasets(datadir)"
   ]
  },
  {
   "cell_type": "code",
   "execution_count": 3,
   "id": "every-angle",
   "metadata": {},
   "outputs": [
    {
     "name": "stdout",
     "output_type": "stream",
     "text": [
      "Num classes: 31\n"
     ]
    }
   ],
   "source": [
    "model=\"pspunet\"\n",
    "backbone=\"resnet50\"\n",
    "img_size=192\n",
    "n_classes=infer_num_classes(datadir+\"/train_labels/\")\n",
    "batch_size=4\n",
    "epochs=2\n",
    "print(\"Num classes:\",n_classes)\n",
    "model=trainer(model, backbone, im_size=img_size, num_classes=n_classes, batch_size=batch_size, epochs=epochs)"
   ]
  },
  {
   "cell_type": "code",
   "execution_count": 4,
   "id": "immune-harris",
   "metadata": {
    "scrolled": false
   },
   "outputs": [
    {
     "name": "stdout",
     "output_type": "stream",
     "text": [
      "Initializing creation of model\n",
      "Model built\n"
     ]
    }
   ],
   "source": [
    "model.initmodel(train_df, val_df)"
   ]
  },
  {
   "cell_type": "code",
   "execution_count": 5,
   "id": "lightweight-separation",
   "metadata": {
    "scrolled": false
   },
   "outputs": [
    {
     "name": "stdout",
     "output_type": "stream",
     "text": [
      "\n",
      "Initializing training of model\n",
      "WARNING:tensorflow:From C:\\Users\\Arturo\\PycharmProjects\\Segm\\private_models\\models\\segmentation\\trainer.py:125: Model.fit_generator (from tensorflow.python.keras.engine.training) is deprecated and will be removed in a future version.\n",
      "Instructions for updating:\n",
      "Please use Model.fit, which supports generators.\n",
      "Epoch 1/2\n",
      "92/92 [==============================] - 438s 5s/step - loss: 0.0197 - iou_score: 0.0227 - f1-score: 0.0248 - precision: 0.0320 - recall: 0.9591 - val_loss: 0.0037 - val_iou_score: 0.0293 - val_f1-score: 0.0307 - val_precision: 0.0323 - val_recall: 0.9649\n",
      "Epoch 2/2\n",
      "92/92 [==============================] - 1036s 11s/step - loss: 4.1843e-04 - iou_score: 0.0316 - f1-score: 0.0319 - precision: 0.0320 - recall: 0.9674 - val_loss: 9.4087e-04 - val_iou_score: 0.0314 - val_f1-score: 0.0318 - val_precision: 0.0323 - val_recall: 0.9669\n"
     ]
    }
   ],
   "source": [
    "model.train_model()"
   ]
  },
  {
   "cell_type": "code",
   "execution_count": null,
   "id": "mechanical-rochester",
   "metadata": {},
   "outputs": [],
   "source": []
  }
 ],
 "metadata": {
  "kernelspec": {
   "display_name": "Python 3",
   "language": "python",
   "name": "python3"
  },
  "language_info": {
   "codemirror_mode": {
    "name": "ipython",
    "version": 3
   },
   "file_extension": ".py",
   "mimetype": "text/x-python",
   "name": "python",
   "nbconvert_exporter": "python",
   "pygments_lexer": "ipython3",
   "version": "3.7.9"
  }
 },
 "nbformat": 4,
 "nbformat_minor": 5
}
